{
 "cells": [
  {
   "cell_type": "code",
   "execution_count": 1,
   "metadata": {},
   "outputs": [],
   "source": [
    "import torch\n",
    "from torch.utils.data import Dataset, DataLoader\n",
    "from torch import nn\n",
    "import torch.optim as optim\n",
    "import torch.nn.functional as F\n",
    "\n",
    "from tqdm import tqdm\n",
    "\n",
    "import pandas as pd\n",
    "import numpy as np\n",
    "\n",
    "import time\n",
    "from pathlib import Path"
   ]
  },
  {
   "cell_type": "code",
   "execution_count": 2,
   "metadata": {},
   "outputs": [
    {
     "name": "stdout",
     "output_type": "stream",
     "text": [
      "current directory:  /home/t/aproject/movie-recommender-system-collaborative-filtering/notebooks\n"
     ]
    }
   ],
   "source": [
    "cur_dir = Path('.').absolute()\n",
    "data_dir=cur_dir.parent/ 'data'\n",
    "\n",
    "print('current directory: ',cur_dir)"
   ]
  },
  {
   "cell_type": "code",
   "execution_count": 3,
   "metadata": {},
   "outputs": [
    {
     "data": {
      "text/plain": [
       "[PosixPath('/home/t/aproject/movie-recommender-system-collaborative-filtering/data/tag.csv'),\n",
       " PosixPath('/home/t/aproject/movie-recommender-system-collaborative-filtering/data/movie.csv'),\n",
       " PosixPath('/home/t/aproject/movie-recommender-system-collaborative-filtering/data/link.csv'),\n",
       " PosixPath('/home/t/aproject/movie-recommender-system-collaborative-filtering/data/rating.csv'),\n",
       " PosixPath('/home/t/aproject/movie-recommender-system-collaborative-filtering/data/new_movie_df.csv'),\n",
       " PosixPath('/home/t/aproject/movie-recommender-system-collaborative-filtering/data/movies.csv'),\n",
       " PosixPath('/home/t/aproject/movie-recommender-system-collaborative-filtering/data/plot_embedding.csv'),\n",
       " PosixPath('/home/t/aproject/movie-recommender-system-collaborative-filtering/data/new_user_df.csv'),\n",
       " PosixPath('/home/t/aproject/movie-recommender-system-collaborative-filtering/data/genome_tags.csv'),\n",
       " PosixPath('/home/t/aproject/movie-recommender-system-collaborative-filtering/data/genome_scores.csv')]"
      ]
     },
     "execution_count": 3,
     "metadata": {},
     "output_type": "execute_result"
    }
   ],
   "source": [
    "list(data_dir.iterdir())"
   ]
  },
  {
   "cell_type": "markdown",
   "metadata": {},
   "source": [
    "## Exploring Movie df"
   ]
  },
  {
   "cell_type": "code",
   "execution_count": 4,
   "metadata": {},
   "outputs": [],
   "source": [
    "movie_df = pd.read_csv(data_dir/'movie.csv')"
   ]
  },
  {
   "cell_type": "code",
   "execution_count": 5,
   "metadata": {},
   "outputs": [],
   "source": [
    "def get_movie_name(idx, df):\n",
    "    try:\n",
    "        return df[df.movieId==idx].title.values[0]\n",
    "    except IndexError as e:\n",
    "        print(\"IndexError:\", idx)\n",
    "\n",
    "def get_movie_id(movie_name, df):\n",
    "    try:\n",
    "        return df[df.title==movie_name].movieId.values[0]\n",
    "    except IndexError as e:\n",
    "        print(\"Movie not found in dataset\")"
   ]
  },
  {
   "cell_type": "code",
   "execution_count": 6,
   "metadata": {},
   "outputs": [
    {
     "name": "stdout",
     "output_type": "stream",
     "text": [
      "<class 'pandas.core.frame.DataFrame'>\n",
      "RangeIndex: 27278 entries, 0 to 27277\n",
      "Data columns (total 3 columns):\n",
      " #   Column   Non-Null Count  Dtype \n",
      "---  ------   --------------  ----- \n",
      " 0   movieId  27278 non-null  int64 \n",
      " 1   title    27278 non-null  object\n",
      " 2   genres   27278 non-null  object\n",
      "dtypes: int64(1), object(2)\n",
      "memory usage: 639.5+ KB\n"
     ]
    }
   ],
   "source": [
    "movie_df.info()"
   ]
  },
  {
   "cell_type": "code",
   "execution_count": 7,
   "metadata": {},
   "outputs": [
    {
     "data": {
      "text/html": [
       "<div>\n",
       "<style scoped>\n",
       "    .dataframe tbody tr th:only-of-type {\n",
       "        vertical-align: middle;\n",
       "    }\n",
       "\n",
       "    .dataframe tbody tr th {\n",
       "        vertical-align: top;\n",
       "    }\n",
       "\n",
       "    .dataframe thead th {\n",
       "        text-align: right;\n",
       "    }\n",
       "</style>\n",
       "<table border=\"1\" class=\"dataframe\">\n",
       "  <thead>\n",
       "    <tr style=\"text-align: right;\">\n",
       "      <th></th>\n",
       "      <th>movieId</th>\n",
       "      <th>title</th>\n",
       "      <th>genres</th>\n",
       "    </tr>\n",
       "  </thead>\n",
       "  <tbody>\n",
       "    <tr>\n",
       "      <th>0</th>\n",
       "      <td>1</td>\n",
       "      <td>Toy Story (1995)</td>\n",
       "      <td>Adventure|Animation|Children|Comedy|Fantasy</td>\n",
       "    </tr>\n",
       "    <tr>\n",
       "      <th>1</th>\n",
       "      <td>2</td>\n",
       "      <td>Jumanji (1995)</td>\n",
       "      <td>Adventure|Children|Fantasy</td>\n",
       "    </tr>\n",
       "    <tr>\n",
       "      <th>2</th>\n",
       "      <td>3</td>\n",
       "      <td>Grumpier Old Men (1995)</td>\n",
       "      <td>Comedy|Romance</td>\n",
       "    </tr>\n",
       "    <tr>\n",
       "      <th>3</th>\n",
       "      <td>4</td>\n",
       "      <td>Waiting to Exhale (1995)</td>\n",
       "      <td>Comedy|Drama|Romance</td>\n",
       "    </tr>\n",
       "    <tr>\n",
       "      <th>4</th>\n",
       "      <td>5</td>\n",
       "      <td>Father of the Bride Part II (1995)</td>\n",
       "      <td>Comedy</td>\n",
       "    </tr>\n",
       "  </tbody>\n",
       "</table>\n",
       "</div>"
      ],
      "text/plain": [
       "   movieId                               title  \\\n",
       "0        1                    Toy Story (1995)   \n",
       "1        2                      Jumanji (1995)   \n",
       "2        3             Grumpier Old Men (1995)   \n",
       "3        4            Waiting to Exhale (1995)   \n",
       "4        5  Father of the Bride Part II (1995)   \n",
       "\n",
       "                                        genres  \n",
       "0  Adventure|Animation|Children|Comedy|Fantasy  \n",
       "1                   Adventure|Children|Fantasy  \n",
       "2                               Comedy|Romance  \n",
       "3                         Comedy|Drama|Romance  \n",
       "4                                       Comedy  "
      ]
     },
     "execution_count": 7,
     "metadata": {},
     "output_type": "execute_result"
    }
   ],
   "source": [
    "movie_df.head()"
   ]
  },
  {
   "cell_type": "code",
   "execution_count": 8,
   "metadata": {},
   "outputs": [
    {
     "data": {
      "text/plain": [
       "movieId    0\n",
       "title      0\n",
       "genres     0\n",
       "dtype: int64"
      ]
     },
     "execution_count": 8,
     "metadata": {},
     "output_type": "execute_result"
    }
   ],
   "source": [
    "movie_df.isna().sum() # no nulls"
   ]
  },
  {
   "cell_type": "code",
   "execution_count": 9,
   "metadata": {},
   "outputs": [
    {
     "data": {
      "text/plain": [
       "0"
      ]
     },
     "execution_count": 9,
     "metadata": {},
     "output_type": "execute_result"
    }
   ],
   "source": [
    "movie_df.duplicated().sum() #no duplicates"
   ]
  },
  {
   "cell_type": "code",
   "execution_count": 10,
   "metadata": {},
   "outputs": [
    {
     "data": {
      "text/plain": [
       "27262"
      ]
     },
     "execution_count": 10,
     "metadata": {},
     "output_type": "execute_result"
    }
   ],
   "source": [
    "movie_df.title.nunique()"
   ]
  },
  {
   "cell_type": "code",
   "execution_count": 11,
   "metadata": {},
   "outputs": [
    {
     "name": "stdout",
     "output_type": "stream",
     "text": [
      "['Aladdin (1992)', 'Johnny Express (2014)', 'Chaos (2005)', 'Hamlet (2000)', '20,000 Leagues Under the Sea (1997)', 'Darling (2007)', 'Casanova (2005)', 'Paradise (2013)', 'Beneath (2013)', 'Girl, The (2012)', 'Clear History (2013)', 'Emma (1996)', 'Offside (2006)', 'Blackout (2007)', 'Men with Guns (1997)', 'War of the Worlds (2005)']\n"
     ]
    }
   ],
   "source": [
    "\n",
    "# Calculate the value counts for each movie title\n",
    "title_value_counts = movie_df['title'].value_counts()\n",
    "\n",
    "# Filter titles that appear more than once\n",
    "duplicate_titles = title_value_counts[title_value_counts > 1].index.tolist()\n",
    "\n",
    "print(duplicate_titles)"
   ]
  },
  {
   "cell_type": "markdown",
   "metadata": {},
   "source": [
    "Some movies have multiple entries with different `movieid` , but it doesn't affect much "
   ]
  },
  {
   "cell_type": "markdown",
   "metadata": {},
   "source": [
    "so in genres column there seems to have no spaces bw genres, lets see want unique genres as there"
   ]
  },
  {
   "cell_type": "code",
   "execution_count": 12,
   "metadata": {},
   "outputs": [],
   "source": [
    "all_genres = movie_df.genres.apply(lambda x : ' '.join(str(x).split('|'))).values.tolist() # split from |\n",
    "all_genres = ' '.join(set(all_genres)).split() # join all strings and break them into words\n",
    "all_genres = set(all_genres)  # make a set to find unique ones"
   ]
  },
  {
   "cell_type": "code",
   "execution_count": 13,
   "metadata": {},
   "outputs": [
    {
     "name": "stdout",
     "output_type": "stream",
     "text": [
      "{'Horror', '(no', 'War', 'Comedy', 'Animation', 'Romance', 'Drama', 'Sci-Fi', 'Mystery', 'genres', 'Children', 'Action', 'Musical', 'IMAX', 'Adventure', 'listed)', 'Documentary', 'Film-Noir', 'Thriller', 'Crime', 'Western', 'Fantasy'} 22\n"
     ]
    }
   ],
   "source": [
    "print(all_genres, len(all_genres))"
   ]
  },
  {
   "cell_type": "markdown",
   "metadata": {},
   "source": [
    "there are 20 genres and 1 for movies with no genre (which is (no listed)) which is broken as '(no' and 'listed)'"
   ]
  },
  {
   "cell_type": "markdown",
   "metadata": {},
   "source": [
    "<br>"
   ]
  },
  {
   "cell_type": "markdown",
   "metadata": {},
   "source": [
    "there are alot of movies that only has 1,2 reviews , so now we will only consider mmovies which has more than 100 review."
   ]
  },
  {
   "cell_type": "code",
   "execution_count": 14,
   "metadata": {},
   "outputs": [],
   "source": [
    "import seaborn as sns\n",
    "import matplotlib.pyplot as plt"
   ]
  },
  {
   "cell_type": "markdown",
   "metadata": {},
   "source": [
    "## Exploraing User data"
   ]
  },
  {
   "cell_type": "code",
   "execution_count": 15,
   "metadata": {},
   "outputs": [],
   "source": [
    "user_df = pd.read_csv(data_dir/'rating.csv', usecols=['userId','movieId','rating'])"
   ]
  },
  {
   "cell_type": "code",
   "execution_count": 16,
   "metadata": {},
   "outputs": [
    {
     "name": "stdout",
     "output_type": "stream",
     "text": [
      "\n"
     ]
    }
   ],
   "source": [
    "# this columns are using too much precision for very low values, lowering the datatype precision\n",
    "user_df['movieId'] = user_df['movieId'].astype('int32') # dont lower too much as it changes the numbers to accomodate to the range\n",
    "user_df['userId'] = user_df['userId'].astype('int32')\n",
    "user_df['rating'] = user_df['rating'].astype('float32')\n",
    "print()"
   ]
  },
  {
   "cell_type": "code",
   "execution_count": 17,
   "metadata": {},
   "outputs": [
    {
     "data": {
      "text/plain": [
       "(138493, 1, 138493)"
      ]
     },
     "execution_count": 17,
     "metadata": {},
     "output_type": "execute_result"
    }
   ],
   "source": [
    "user_df.userId.max(), user_df.userId.min(), user_df.userId.nunique()"
   ]
  },
  {
   "cell_type": "code",
   "execution_count": 18,
   "metadata": {},
   "outputs": [
    {
     "data": {
      "text/plain": [
       "(20000263, 3)"
      ]
     },
     "execution_count": 18,
     "metadata": {},
     "output_type": "execute_result"
    }
   ],
   "source": [
    "user_df.shape #(20000263,3)"
   ]
  },
  {
   "cell_type": "code",
   "execution_count": 19,
   "metadata": {},
   "outputs": [
    {
     "name": "stdout",
     "output_type": "stream",
     "text": [
      "<class 'pandas.core.frame.DataFrame'>\n",
      "RangeIndex: 20000263 entries, 0 to 20000262\n",
      "Data columns (total 3 columns):\n",
      " #   Column   Dtype  \n",
      "---  ------   -----  \n",
      " 0   userId   int32  \n",
      " 1   movieId  int32  \n",
      " 2   rating   float32\n",
      "dtypes: float32(1), int32(2)\n",
      "memory usage: 228.9 MB\n"
     ]
    }
   ],
   "source": [
    "user_df.info()"
   ]
  },
  {
   "cell_type": "code",
   "execution_count": 20,
   "metadata": {},
   "outputs": [
    {
     "data": {
      "text/html": [
       "<div>\n",
       "<style scoped>\n",
       "    .dataframe tbody tr th:only-of-type {\n",
       "        vertical-align: middle;\n",
       "    }\n",
       "\n",
       "    .dataframe tbody tr th {\n",
       "        vertical-align: top;\n",
       "    }\n",
       "\n",
       "    .dataframe thead th {\n",
       "        text-align: right;\n",
       "    }\n",
       "</style>\n",
       "<table border=\"1\" class=\"dataframe\">\n",
       "  <thead>\n",
       "    <tr style=\"text-align: right;\">\n",
       "      <th></th>\n",
       "      <th>userId</th>\n",
       "      <th>movieId</th>\n",
       "      <th>rating</th>\n",
       "    </tr>\n",
       "  </thead>\n",
       "  <tbody>\n",
       "    <tr>\n",
       "      <th>0</th>\n",
       "      <td>1</td>\n",
       "      <td>2</td>\n",
       "      <td>3.5</td>\n",
       "    </tr>\n",
       "    <tr>\n",
       "      <th>1</th>\n",
       "      <td>1</td>\n",
       "      <td>29</td>\n",
       "      <td>3.5</td>\n",
       "    </tr>\n",
       "    <tr>\n",
       "      <th>2</th>\n",
       "      <td>1</td>\n",
       "      <td>32</td>\n",
       "      <td>3.5</td>\n",
       "    </tr>\n",
       "    <tr>\n",
       "      <th>3</th>\n",
       "      <td>1</td>\n",
       "      <td>47</td>\n",
       "      <td>3.5</td>\n",
       "    </tr>\n",
       "    <tr>\n",
       "      <th>4</th>\n",
       "      <td>1</td>\n",
       "      <td>50</td>\n",
       "      <td>3.5</td>\n",
       "    </tr>\n",
       "  </tbody>\n",
       "</table>\n",
       "</div>"
      ],
      "text/plain": [
       "   userId  movieId  rating\n",
       "0       1        2     3.5\n",
       "1       1       29     3.5\n",
       "2       1       32     3.5\n",
       "3       1       47     3.5\n",
       "4       1       50     3.5"
      ]
     },
     "execution_count": 20,
     "metadata": {},
     "output_type": "execute_result"
    }
   ],
   "source": [
    "user_df.head()"
   ]
  },
  {
   "cell_type": "markdown",
   "metadata": {},
   "source": [
    "finding out reviews per movies"
   ]
  },
  {
   "cell_type": "code",
   "execution_count": 21,
   "metadata": {},
   "outputs": [
    {
     "data": {
      "text/plain": [
       "movieId\n",
       "296       67310\n",
       "356       66172\n",
       "318       63366\n",
       "593       63299\n",
       "480       59715\n",
       "          ...  \n",
       "125545        1\n",
       "78873         1\n",
       "112907        1\n",
       "112909        1\n",
       "110510        1\n",
       "Name: count, Length: 26744, dtype: int64"
      ]
     },
     "execution_count": 21,
     "metadata": {},
     "output_type": "execute_result"
    }
   ],
   "source": [
    "movie_vote_count = user_df.movieId.value_counts()\n",
    "movie_vote_count"
   ]
  },
  {
   "cell_type": "code",
   "execution_count": 22,
   "metadata": {},
   "outputs": [
    {
     "name": "stdout",
     "output_type": "stream",
     "text": [
      "Most voted movies\n",
      "Pulp Fiction (1994)                 : 67310\n",
      "Forrest Gump (1994)                 : 66172\n",
      "Shawshank Redemption, The (1994)    : 63366\n",
      "Silence of the Lambs, The (1991)    : 63299\n",
      "Jurassic Park (1993)                : 59715\n",
      "Star Wars: Episode IV - A New Hope (1977) : 54502\n",
      "Braveheart (1995)                   : 53769\n",
      "Terminator 2: Judgment Day (1991)   : 52244\n",
      "Matrix, The (1999)                  : 51334\n",
      "Schindler's List (1993)             : 50054\n",
      "Toy Story (1995)                    : 49695\n",
      "Fugitive, The (1993)                : 49581\n",
      "Apollo 13 (1995)                    : 47777\n",
      "Independence Day (a.k.a. ID4) (1996) : 47048\n",
      "Usual Suspects, The (1995)          : 47006\n",
      "Star Wars: Episode VI - Return of the Jedi (1983) : 46839\n",
      "Batman (1989)                       : 46054\n",
      "Star Wars: Episode V - The Empire Strikes Back (1980) : 45313\n",
      "American Beauty (1999)              : 44987\n",
      "Twelve Monkeys (a.k.a. 12 Monkeys) (1995) : 44980\n"
     ]
    }
   ],
   "source": [
    "print('Most voted movies')\n",
    "i=20\n",
    "for idx, count in zip(movie_vote_count.index ,movie_vote_count.to_list()):\n",
    "    print(f\"{get_movie_name(idx, movie_df):35} : {count}\")\n",
    "    i -= 1\n",
    "    if i==0:\n",
    "        break"
   ]
  },
  {
   "cell_type": "code",
   "execution_count": 23,
   "metadata": {},
   "outputs": [],
   "source": [
    "movie_df_rating_filter = 100"
   ]
  },
  {
   "cell_type": "code",
   "execution_count": 24,
   "metadata": {},
   "outputs": [
    {
     "data": {
      "text/plain": [
       "Index([   296,    356,    318,    593,    480,    260,    110,    589,   2571,\n",
       "          527,\n",
       "       ...\n",
       "       112911,   8201,  30867,    687,  71878,   4208,  59915,   5256,  51127,\n",
       "        26746],\n",
       "      dtype='int32', name='movieId', length=8546)"
      ]
     },
     "execution_count": 24,
     "metadata": {},
     "output_type": "execute_result"
    }
   ],
   "source": [
    "popular_movieIds = movie_vote_count[movie_vote_count>=movie_df_rating_filter].index\n",
    "popular_movieIds"
   ]
  },
  {
   "cell_type": "code",
   "execution_count": 25,
   "metadata": {},
   "outputs": [
    {
     "data": {
      "text/plain": [
       "(19706281, 3)"
      ]
     },
     "execution_count": 25,
     "metadata": {},
     "output_type": "execute_result"
    }
   ],
   "source": [
    "new_user_df = user_df[user_df['movieId'].isin(popular_movieIds)]\n",
    "new_user_df.shape"
   ]
  },
  {
   "cell_type": "markdown",
   "metadata": {},
   "source": [
    "we only lost ~300k ratings while droppin alot of redundent movies while extremly low reviews."
   ]
  },
  {
   "cell_type": "markdown",
   "metadata": {},
   "source": [
    "same for the users, if users with certain number of reviews  will be used."
   ]
  },
  {
   "cell_type": "code",
   "execution_count": 26,
   "metadata": {},
   "outputs": [
    {
     "data": {
      "text/plain": [
       "userId\n",
       "118205    9254\n",
       "8405      7515\n",
       "82418     5646\n",
       "121535    5520\n",
       "125794    5491\n",
       "          ... \n",
       "89305       20\n",
       "110463      20\n",
       "96990       20\n",
       "134747      20\n",
       "6526        20\n",
       "Name: count, Length: 138493, dtype: int64"
      ]
     },
     "execution_count": 26,
     "metadata": {},
     "output_type": "execute_result"
    }
   ],
   "source": [
    "user_vote_count = user_df.userId.value_counts()\n",
    "user_vote_count"
   ]
  },
  {
   "cell_type": "code",
   "execution_count": 27,
   "metadata": {},
   "outputs": [
    {
     "name": "stdout",
     "output_type": "stream",
     "text": [
      "Most user reviews\n",
      "                             118205 : 9254\n",
      "                               8405 : 7515\n",
      "                              82418 : 5646\n",
      "                             121535 : 5520\n",
      "                             125794 : 5491\n",
      "                              74142 : 5447\n",
      "                              34576 : 5356\n",
      "                             131904 : 5330\n",
      "                              83090 : 5169\n",
      "                              59477 : 4988\n",
      "                             130767 : 4785\n",
      "                              79159 : 4707\n",
      "                               8963 : 4524\n",
      "                              15617 : 4354\n",
      "                              92011 : 4236\n",
      "                              71975 : 4182\n",
      "                              20132 : 4101\n",
      "                              46470 : 4094\n",
      "                              88820 : 4093\n",
      "                              63147 : 3958\n"
     ]
    }
   ],
   "source": [
    "print('Most user reviews')\n",
    "i=20\n",
    "for idx, count in zip(user_vote_count.index ,user_vote_count.to_list()):\n",
    "    print(f\"{idx:35} : {count}\")\n",
    "    i -= 1\n",
    "    if i==0:\n",
    "        break"
   ]
  },
  {
   "cell_type": "code",
   "execution_count": 28,
   "metadata": {},
   "outputs": [],
   "source": [
    "user_df_vote_filter = 500"
   ]
  },
  {
   "cell_type": "code",
   "execution_count": 29,
   "metadata": {},
   "outputs": [
    {
     "data": {
      "text/plain": [
       "Index([118205,   8405,  82418, 121535, 125794,  74142,  34576, 131904,  83090,\n",
       "        59477,\n",
       "       ...\n",
       "       134897,  50213,  63094, 111821, 103323,  86186,  63958,  28709,  80789,\n",
       "        62328],\n",
       "      dtype='int32', name='userId', length=7491)"
      ]
     },
     "execution_count": 29,
     "metadata": {},
     "output_type": "execute_result"
    }
   ],
   "source": [
    "popular_userIds = user_vote_count[user_vote_count>=user_df_vote_filter].index\n",
    "popular_userIds"
   ]
  },
  {
   "cell_type": "code",
   "execution_count": 30,
   "metadata": {},
   "outputs": [
    {
     "data": {
      "text/plain": [
       "(6370818, 3)"
      ]
     },
     "execution_count": 30,
     "metadata": {},
     "output_type": "execute_result"
    }
   ],
   "source": [
    "new_user_df = new_user_df[new_user_df['userId'].isin(popular_userIds)]\n",
    "new_user_df.shape"
   ]
  },
  {
   "cell_type": "code",
   "execution_count": 31,
   "metadata": {},
   "outputs": [
    {
     "data": {
      "text/plain": [
       "(8546, 3)"
      ]
     },
     "execution_count": 31,
     "metadata": {},
     "output_type": "execute_result"
    }
   ],
   "source": [
    "new_movie_df = movie_df[movie_df['movieId'].isin(popular_movieIds)]\n",
    "new_movie_df.shape"
   ]
  },
  {
   "cell_type": "code",
   "execution_count": 32,
   "metadata": {},
   "outputs": [],
   "source": [
    "new_movie_df.to_csv(data_dir/'new_movie_df.csv')\n",
    "new_user_df.to_csv(data_dir/'new_user_df.csv')"
   ]
  },
  {
   "cell_type": "markdown",
   "metadata": {},
   "source": [
    "## dataset"
   ]
  },
  {
   "cell_type": "code",
   "execution_count": 33,
   "metadata": {},
   "outputs": [
    {
     "data": {
      "text/html": [
       "<div>\n",
       "<style scoped>\n",
       "    .dataframe tbody tr th:only-of-type {\n",
       "        vertical-align: middle;\n",
       "    }\n",
       "\n",
       "    .dataframe tbody tr th {\n",
       "        vertical-align: top;\n",
       "    }\n",
       "\n",
       "    .dataframe thead th {\n",
       "        text-align: right;\n",
       "    }\n",
       "</style>\n",
       "<table border=\"1\" class=\"dataframe\">\n",
       "  <thead>\n",
       "    <tr style=\"text-align: right;\">\n",
       "      <th></th>\n",
       "      <th>userId</th>\n",
       "      <th>movieId</th>\n",
       "      <th>rating</th>\n",
       "    </tr>\n",
       "  </thead>\n",
       "  <tbody>\n",
       "    <tr>\n",
       "      <th>0</th>\n",
       "      <td>1</td>\n",
       "      <td>2</td>\n",
       "      <td>3.5</td>\n",
       "    </tr>\n",
       "    <tr>\n",
       "      <th>1</th>\n",
       "      <td>1</td>\n",
       "      <td>29</td>\n",
       "      <td>3.5</td>\n",
       "    </tr>\n",
       "    <tr>\n",
       "      <th>2</th>\n",
       "      <td>1</td>\n",
       "      <td>32</td>\n",
       "      <td>3.5</td>\n",
       "    </tr>\n",
       "    <tr>\n",
       "      <th>3</th>\n",
       "      <td>1</td>\n",
       "      <td>47</td>\n",
       "      <td>3.5</td>\n",
       "    </tr>\n",
       "    <tr>\n",
       "      <th>4</th>\n",
       "      <td>1</td>\n",
       "      <td>50</td>\n",
       "      <td>3.5</td>\n",
       "    </tr>\n",
       "  </tbody>\n",
       "</table>\n",
       "</div>"
      ],
      "text/plain": [
       "   userId  movieId  rating\n",
       "0       1        2     3.5\n",
       "1       1       29     3.5\n",
       "2       1       32     3.5\n",
       "3       1       47     3.5\n",
       "4       1       50     3.5"
      ]
     },
     "execution_count": 33,
     "metadata": {},
     "output_type": "execute_result"
    }
   ],
   "source": [
    "user_df.head()"
   ]
  },
  {
   "cell_type": "code",
   "execution_count": 34,
   "metadata": {},
   "outputs": [],
   "source": [
    "# Define a custom dataset class\n",
    "class MovieRatingDataset(Dataset):\n",
    "    def __init__(self, df):\n",
    "        self.df = df.copy()\n",
    "        \n",
    "        users = df.userId.sort_values().unique()\n",
    "        movies = df.movieId.sort_values().unique()\n",
    "        \n",
    "        self.num_users = len(users)\n",
    "        self.num_movies = len(movies) \n",
    "        \n",
    "        self.userId2idx = {userId:idx for idx, userId in enumerate(users)}\n",
    "        self.movieId2idx = {movieId:idx for idx, movieId in enumerate(movies)}\n",
    "        \n",
    "        self.idx2userId = {idx:userId for userId, idx in self.userId2idx.items()}\n",
    "        self.idx2movieId = {idx:movieId for movieId, idx in self.movieId2idx.items()}\n",
    "        \n",
    "        self.df.movieId =  self.df.movieId.map(self.movieId2idx)\n",
    "        self.df.userId =  self.df.userId.map(self.userId2idx)\n",
    "\n",
    "    def __len__(self):\n",
    "        return len(self.df)\n",
    "    \n",
    "    def __getitem__(self, idx):\n",
    "        user_id = torch.tensor(self.df.iloc[idx]['userId'], dtype=torch.int32)\n",
    "        movie_id = torch.tensor(self.df.iloc[idx]['movieId'], dtype=torch.int32)\n",
    "        rating = torch.tensor(self.df.iloc[idx]['rating'], dtype=torch.float32)\n",
    "        return user_id, movie_id, rating\n"
   ]
  },
  {
   "cell_type": "markdown",
   "metadata": {},
   "source": [
    "# Model"
   ]
  },
  {
   "cell_type": "code",
   "execution_count": 35,
   "metadata": {},
   "outputs": [],
   "source": [
    "import torch\n",
    "import torch.nn as nn\n",
    "from pathlib import Path\n",
    "\n",
    "class RecommenderModel(nn.Module):\n",
    "    def __init__(self, num_users, num_movies, embedding_dim, model_path:Path=None):\n",
    "        super(RecommenderModel, self).__init__()\n",
    "        self.model_path = model_path\n",
    "        self.user_embedding = nn.Embedding(num_users, embedding_dim)\n",
    "        self.movie_embedding = nn.Embedding(num_movies, embedding_dim)\n",
    "        self.user_embedding_bias = nn.Embedding(num_users, 1)\n",
    "        self.movie_embedding_bias = nn.Embedding(num_movies, 1)\n",
    "        self.out = nn.Linear(embedding_dim, 1)\n",
    "        \n",
    "        \n",
    "        self.user_embedding.weight.data.uniform_(0, 0.05)\n",
    "        self.movie_embedding.weight.data.uniform_(0, 0.05)\n",
    "        self.user_embedding_bias.weight.data.uniform_(-0.01, 0.01)\n",
    "        self.movie_embedding_bias.weight.data.uniform_(-0.01, 0.01)\n",
    "        \n",
    "    def forward(self, user_ids, movie_tags, debug=False):\n",
    "   \n",
    "        user_emb = self.user_embedding(user_ids)\n",
    "        movie_emb = self.movie_embedding(movie_tags)\n",
    "        \n",
    "        user_emb_bias = self.user_embedding_bias(user_ids)\n",
    "        movie_emb_bias = self.movie_embedding_bias(movie_tags)\n",
    "\n",
    "        interaction = (user_emb * movie_emb) + user_emb_bias + movie_emb_bias\n",
    "        output = self.out(interaction) \n",
    "        if debug:\n",
    "            print('user_emb.shape   : ',user_emb.shape)\n",
    "            print('movie_emb.shape  : ',movie_emb.shape)\n",
    "            print('interaction.shape: ',interaction.shape)\n",
    "            \n",
    "            print('user_emb_bias.shape  : ',user_emb_bias.shape)\n",
    "            print('movie_emb_bias.shape: ',movie_emb_bias.shape)\n",
    "            \n",
    "            print('output.shape     :',output.shape)\n",
    "\n",
    "        return output\n",
    "    \n",
    "    def load_model(self, model_path=None):\n",
    "        if model_path is None:\n",
    "            model_path = self.model_path\n",
    "        \n",
    "        try:\n",
    "            self.load_state_dict(torch.load(model_path))\n",
    "            print('Model weights loaded.')\n",
    "        except FileNotFoundError as e:\n",
    "            print(f'Weights not found. {e}')\n",
    "        except RuntimeError as e:\n",
    "            raise(e)\n",
    "            \n",
    "            \n",
    "    def save_model(self, model_path=None):\n",
    "        if model_path is None:\n",
    "            model_path = self.model_path\n",
    "        torch.save(self.state_dict(), model_path)"
   ]
  },
  {
   "cell_type": "code",
   "execution_count": 36,
   "metadata": {},
   "outputs": [
    {
     "data": {
      "text/plain": [
       "'cuda'"
      ]
     },
     "execution_count": 36,
     "metadata": {},
     "output_type": "execute_result"
    }
   ],
   "source": [
    "device = 'cuda' if torch.cuda.is_available() else 'cpu'\n",
    "device"
   ]
  },
  {
   "cell_type": "code",
   "execution_count": 37,
   "metadata": {},
   "outputs": [
    {
     "data": {
      "text/plain": [
       "RecommenderModel(\n",
       "  (user_embedding): Embedding(10, 8)\n",
       "  (movie_embedding): Embedding(45, 8)\n",
       "  (user_embedding_bias): Embedding(10, 1)\n",
       "  (movie_embedding_bias): Embedding(45, 1)\n",
       "  (out): Linear(in_features=8, out_features=1, bias=True)\n",
       ")"
      ]
     },
     "execution_count": 37,
     "metadata": {},
     "output_type": "execute_result"
    }
   ],
   "source": [
    "model = RecommenderModel(10, 45, 8)\n",
    "model"
   ]
  },
  {
   "cell_type": "code",
   "execution_count": 38,
   "metadata": {},
   "outputs": [
    {
     "name": "stdout",
     "output_type": "stream",
     "text": [
      "user_emb.shape   :  torch.Size([32, 8])\n",
      "movie_emb.shape  :  torch.Size([32, 8])\n",
      "interaction.shape:  torch.Size([32, 8])\n",
      "user_emb_bias.shape  :  torch.Size([32, 1])\n",
      "movie_emb_bias.shape:  torch.Size([32, 1])\n",
      "output.shape     : torch.Size([32, 1])\n"
     ]
    },
    {
     "data": {
      "text/plain": [
       "torch.Size([32])"
      ]
     },
     "execution_count": 38,
     "metadata": {},
     "output_type": "execute_result"
    }
   ],
   "source": [
    "test_out = model(torch.randint(1,10,(32,1)).squeeze(), torch.randint(1,45,(32,1)).squeeze(), debug=True).squeeze()\n",
    "test_out.shape"
   ]
  },
  {
   "cell_type": "code",
   "execution_count": null,
   "metadata": {},
   "outputs": [],
   "source": []
  },
  {
   "cell_type": "code",
   "execution_count": null,
   "metadata": {},
   "outputs": [],
   "source": []
  },
  {
   "cell_type": "code",
   "execution_count": null,
   "metadata": {},
   "outputs": [],
   "source": []
  },
  {
   "cell_type": "code",
   "execution_count": null,
   "metadata": {},
   "outputs": [],
   "source": []
  },
  {
   "cell_type": "code",
   "execution_count": null,
   "metadata": {},
   "outputs": [],
   "source": []
  },
  {
   "cell_type": "code",
   "execution_count": 39,
   "metadata": {},
   "outputs": [],
   "source": [
    "def train_model(model, dataloader, optimizer, loss_function, num_epochs=10, device='cpu', data_percent=1.0, steps_per_epoch=None):\n",
    "    model.to(device)\n",
    "    print(f'{model.__class__.__name__} Running on: {device}')\n",
    "\n",
    "    data_size = int(data_percent * len(dataloader))\n",
    "    dataloader = iter(dataloader)\n",
    "\n",
    "    for epoch in range(num_epochs):\n",
    "        total_loss = 0.0\n",
    "        total_mse = 0.0\n",
    "        total_mae = 0.0\n",
    "        total_samples = 0\n",
    "\n",
    "        epoch_progress = tqdm(range(data_size), desc=f\"Epoch [{epoch+1:2}/{num_epochs:2}]\")\n",
    "        \n",
    "        if steps_per_epoch is not None:\n",
    "            epoch_progress = tqdm(range(steps_per_epoch), desc=f\"Epoch [{epoch+1:2}/{num_epochs:2}]\")\n",
    "\n",
    "        last_update_time = time.time() - 1.0  # Initialize to ensure the first update\n",
    "        \n",
    "        for _ in epoch_progress:\n",
    "            try:\n",
    "                batch = next(dataloader)\n",
    "            except StopIteration:\n",
    "                print(\"Dataloader is exhausted. Resetting or stopping training.\")\n",
    "                # You might want to break the loop or take some other action here\n",
    "                break\n",
    "\n",
    "            user_ids, movie_ids, ratings = batch\n",
    "\n",
    "            \n",
    "            user_ids = user_ids.to(device)\n",
    "            movie_ids = movie_ids.to(device)\n",
    "            ratings = ratings.to(device)\n",
    "\n",
    "            optimizer.zero_grad()\n",
    "            \n",
    "            outputs = model(user_ids, movie_ids).squeeze()\n",
    "            \n",
    "            \n",
    "            loss = loss_function(outputs, ratings)\n",
    "            mse = F.mse_loss(outputs, ratings)\n",
    "            mae = F.l1_loss(outputs, ratings)\n",
    "            \n",
    "            loss.backward()\n",
    "            optimizer.step()\n",
    "            \n",
    "            total_mse += mse.item()\n",
    "            total_mae += mae.item()\n",
    "            total_samples += len(ratings)\n",
    "            total_loss += loss.item()\n",
    "\n",
    "            formatted_loss = f\"{loss.item():.8f}\"\n",
    "            formatted_mse = f\"{mse.item():.8f}\"\n",
    "            formatted_mae = f\"{mae.item():.8f}\"\n",
    "            \n",
    "            current_time = time.time()\n",
    "            if current_time - last_update_time > epoch_progress.mininterval:\n",
    "                epoch_progress.set_postfix({\"Loss\": formatted_loss, \"MSE\": formatted_mse, \"MAE\": formatted_mae})\n",
    "                epoch_progress.update()\n",
    "                last_update_time = current_time\n",
    "\n",
    "            if steps_per_epoch is not None and _ + 1 >= steps_per_epoch:\n",
    "                break\n",
    "\n",
    "        # epoch_progress.close()\n",
    "        average_loss = total_loss / min(data_size, steps_per_epoch) if steps_per_epoch is not None else total_loss / data_size\n",
    "        average_mse = total_mse / min(data_size, steps_per_epoch) if steps_per_epoch is not None else total_mse / data_size\n",
    "        average_mae = total_mae / min(data_size, steps_per_epoch) if steps_per_epoch is not None else total_mae / data_size\n",
    "        \n",
    "        print(f\"Epoch [{epoch+1:2}/{num_epochs:2}] - Average Loss: {average_loss:.8f} - Average MSE: {average_mse:.8f} - Average MAE: {average_mae:.8f}\")\n",
    "        print()"
   ]
  },
  {
   "cell_type": "markdown",
   "metadata": {},
   "source": [
    "# training"
   ]
  },
  {
   "cell_type": "markdown",
   "metadata": {},
   "source": [
    "## make Dataset"
   ]
  },
  {
   "cell_type": "code",
   "execution_count": 40,
   "metadata": {},
   "outputs": [
    {
     "name": "stdout",
     "output_type": "stream",
     "text": [
      "users :  7491\n",
      "movies:  8546\n"
     ]
    }
   ],
   "source": [
    "# Set batch size for DataLoader\n",
    "batch_size = 32\n",
    "\n",
    "# train\n",
    "dataset = MovieRatingDataset(new_user_df)\n",
    "dataloader = DataLoader(dataset, batch_size=batch_size, shuffle=True)\n",
    "\n",
    "print('users : ',dataset.num_users)\n",
    "print('movies: ',dataset.num_movies)"
   ]
  },
  {
   "cell_type": "code",
   "execution_count": 41,
   "metadata": {},
   "outputs": [],
   "source": [
    "# # Iterate through the DataLoader during training\n",
    "# for batch in dataloader:\n",
    "\n",
    "#     user_ids, movie_tags, ratings = batch\n",
    "    \n",
    "#     print(\"User IDs:\", user_ids, user_ids.shape)\n",
    "#     print(\"Movie ids:\", movie_tags, movie_tags.shape)\n",
    "#     print(\"Ratings:\", ratings, ratings.shape)\n",
    "#     break  # only print the first batch"
   ]
  },
  {
   "cell_type": "code",
   "execution_count": 42,
   "metadata": {},
   "outputs": [],
   "source": [
    "# Initialize your model, optimizer, and loss function\n",
    "num_users = dataset.num_users  # actual number of users #\n",
    "num_movies = dataset.num_movies  # actual number of tokens\n",
    "dim = 8\n",
    "\n",
    "model = RecommenderModel(num_users, num_movies, dim)\n",
    "\n",
    "# print(f'{num_users=}')\n",
    "# print(f'{num_movies=}')\n",
    "# print(f'{model=}')"
   ]
  },
  {
   "cell_type": "code",
   "execution_count": 43,
   "metadata": {},
   "outputs": [],
   "source": [
    "optimizer = optim.AdamW(model.parameters(), lr=0.0015)\n",
    "loss_function = nn.MSELoss()"
   ]
  },
  {
   "cell_type": "code",
   "execution_count": 44,
   "metadata": {},
   "outputs": [],
   "source": [
    "# set model path\n",
    "model_dir = cur_dir.parent/'models'\n",
    "model_path = model_dir/'model.pth'\n",
    "model.model_path=model_path"
   ]
  },
  {
   "cell_type": "code",
   "execution_count": 45,
   "metadata": {},
   "outputs": [],
   "source": [
    "# load the model is exists\n",
    "# model.load_model()"
   ]
  },
  {
   "cell_type": "code",
   "execution_count": 46,
   "metadata": {},
   "outputs": [
    {
     "data": {
      "text/plain": [
       "'cuda'"
      ]
     },
     "execution_count": 46,
     "metadata": {},
     "output_type": "execute_result"
    }
   ],
   "source": [
    "# device = 'cpu'\n",
    "num_epochs = 10\n",
    "device"
   ]
  },
  {
   "cell_type": "code",
   "execution_count": 47,
   "metadata": {},
   "outputs": [
    {
     "name": "stdout",
     "output_type": "stream",
     "text": [
      "RecommenderModel Running on: cuda\n"
     ]
    },
    {
     "name": "stderr",
     "output_type": "stream",
     "text": [
      "Epoch [ 1/10]: 100%|██████████| 19908/19908 [02:59<00:00, 111.17it/s, Loss=0.87323749, MSE=0.87323749, MAE=0.75021380]\n"
     ]
    },
    {
     "name": "stdout",
     "output_type": "stream",
     "text": [
      "Epoch [ 1/10] - Average Loss: 0.98994047 - Average MSE: 0.98994047 - Average MAE: 0.74334480\n",
      "\n"
     ]
    },
    {
     "name": "stderr",
     "output_type": "stream",
     "text": [
      "Epoch [ 2/10]: 100%|██████████| 19908/19908 [02:51<00:00, 116.24it/s, Loss=0.54065311, MSE=0.54065311, MAE=0.61686003]\n"
     ]
    },
    {
     "name": "stdout",
     "output_type": "stream",
     "text": [
      "Epoch [ 2/10] - Average Loss: 0.67889333 - Average MSE: 0.67889333 - Average MAE: 0.63396478\n",
      "\n"
     ]
    },
    {
     "name": "stderr",
     "output_type": "stream",
     "text": [
      "Epoch [ 3/10]: 100%|██████████| 19908/19908 [02:51<00:00, 116.37it/s, Loss=0.81010938, MSE=0.81010938, MAE=0.67042243]\n"
     ]
    },
    {
     "name": "stdout",
     "output_type": "stream",
     "text": [
      "Epoch [ 3/10] - Average Loss: 0.66091714 - Average MSE: 0.66091714 - Average MAE: 0.62414582\n",
      "\n"
     ]
    },
    {
     "name": "stderr",
     "output_type": "stream",
     "text": [
      "Epoch [ 4/10]: 100%|██████████| 19908/19908 [02:51<00:00, 115.92it/s, Loss=0.61759698, MSE=0.61759698, MAE=0.59600157]\n"
     ]
    },
    {
     "name": "stdout",
     "output_type": "stream",
     "text": [
      "Epoch [ 4/10] - Average Loss: 0.65272011 - Average MSE: 0.65272011 - Average MAE: 0.61955556\n",
      "\n"
     ]
    },
    {
     "name": "stderr",
     "output_type": "stream",
     "text": [
      "Epoch [ 5/10]: 100%|██████████| 19908/19908 [02:51<00:00, 115.95it/s, Loss=0.60617924, MSE=0.60617924, MAE=0.65021020]\n"
     ]
    },
    {
     "name": "stdout",
     "output_type": "stream",
     "text": [
      "Epoch [ 5/10] - Average Loss: 0.64523059 - Average MSE: 0.64523059 - Average MAE: 0.61606590\n",
      "\n"
     ]
    },
    {
     "name": "stderr",
     "output_type": "stream",
     "text": [
      "Epoch [ 6/10]: 100%|██████████| 19908/19908 [02:52<00:00, 115.35it/s, Loss=0.46859556, MSE=0.46859556, MAE=0.56067967]\n"
     ]
    },
    {
     "name": "stdout",
     "output_type": "stream",
     "text": [
      "Epoch [ 6/10] - Average Loss: 0.64124235 - Average MSE: 0.64124235 - Average MAE: 0.61392863\n",
      "\n"
     ]
    },
    {
     "name": "stderr",
     "output_type": "stream",
     "text": [
      "Epoch [ 7/10]: 100%|██████████| 19908/19908 [02:48<00:00, 118.13it/s, Loss=0.65299827, MSE=0.65299827, MAE=0.61116153]\n"
     ]
    },
    {
     "name": "stdout",
     "output_type": "stream",
     "text": [
      "Epoch [ 7/10] - Average Loss: 0.63439447 - Average MSE: 0.63439447 - Average MAE: 0.61050153\n",
      "\n"
     ]
    },
    {
     "name": "stderr",
     "output_type": "stream",
     "text": [
      "Epoch [ 8/10]: 100%|██████████| 19908/19908 [02:47<00:00, 118.61it/s, Loss=0.56063366, MSE=0.56063366, MAE=0.59850627]\n"
     ]
    },
    {
     "name": "stdout",
     "output_type": "stream",
     "text": [
      "Epoch [ 8/10] - Average Loss: 0.62847652 - Average MSE: 0.62847652 - Average MAE: 0.60706778\n",
      "\n"
     ]
    },
    {
     "name": "stderr",
     "output_type": "stream",
     "text": [
      "Epoch [ 9/10]: 100%|██████████| 19908/19908 [02:48<00:00, 118.44it/s, Loss=0.87602448, MSE=0.87602448, MAE=0.66765004]\n"
     ]
    },
    {
     "name": "stdout",
     "output_type": "stream",
     "text": [
      "Epoch [ 9/10] - Average Loss: 0.62261133 - Average MSE: 0.62261133 - Average MAE: 0.60451194\n",
      "\n"
     ]
    },
    {
     "name": "stderr",
     "output_type": "stream",
     "text": [
      "Epoch [10/10]: 100%|██████████| 19908/19908 [02:47<00:00, 118.63it/s, Loss=0.36934984, MSE=0.36934984, MAE=0.53011513]"
     ]
    },
    {
     "name": "stdout",
     "output_type": "stream",
     "text": [
      "Epoch [10/10] - Average Loss: 0.62109601 - Average MSE: 0.62109601 - Average MAE: 0.60386907\n",
      "\n"
     ]
    },
    {
     "name": "stderr",
     "output_type": "stream",
     "text": [
      "\n"
     ]
    }
   ],
   "source": [
    "train_model(model, dataloader,  optimizer, loss_function, num_epochs=num_epochs, device=device, data_percent=0.1)"
   ]
  },
  {
   "cell_type": "code",
   "execution_count": 49,
   "metadata": {},
   "outputs": [],
   "source": [
    "# save the model\n",
    "model.save_model()"
   ]
  },
  {
   "cell_type": "markdown",
   "metadata": {},
   "source": [
    "# Getting recommendations"
   ]
  },
  {
   "cell_type": "code",
   "execution_count": 50,
   "metadata": {},
   "outputs": [
    {
     "data": {
      "text/plain": [
       "(8546, 8)"
      ]
     },
     "execution_count": 50,
     "metadata": {},
     "output_type": "execute_result"
    }
   ],
   "source": [
    "trained_movie_embedding = model.movie_embedding.weight.data.cpu().numpy()\n",
    "trained_movie_embedding.shape"
   ]
  },
  {
   "cell_type": "code",
   "execution_count": 51,
   "metadata": {},
   "outputs": [],
   "source": [
    "from sklearn.cluster import KMeans"
   ]
  },
  {
   "cell_type": "code",
   "execution_count": 52,
   "metadata": {},
   "outputs": [
    {
     "name": "stderr",
     "output_type": "stream",
     "text": [
      "/home/t/miniconda3/envs/deep/lib/python3.11/site-packages/sklearn/cluster/_kmeans.py:1412: FutureWarning: The default value of `n_init` will change from 10 to 'auto' in 1.4. Set the value of `n_init` explicitly to suppress the warning\n",
      "  super()._check_params_vs_input(X, default_n_init=10)\n"
     ]
    }
   ],
   "source": [
    "clusters = 10\n",
    "kmeans = KMeans(n_clusters=clusters,random_state=0).fit(trained_movie_embedding)"
   ]
  },
  {
   "cell_type": "code",
   "execution_count": 53,
   "metadata": {},
   "outputs": [
    {
     "name": "stdout",
     "output_type": "stream",
     "text": [
      "Cluster:  0\n",
      "\t ['Jumanji (1995)']\n",
      "\t ['Othello (1995)']\n",
      "\t ['When Night Is Falling (1995)']\n",
      "\t ['Two Bits (1995)']\n",
      "\t ['Last Summer in the Hamptons (1995)']\n",
      "\t ['Mary Reilly (1996)']\n",
      "\t ['City Hall (1996)']\n",
      "\t ['Muppet Treasure Island (1996)']\n",
      "\t ['Catwalk (1996)']\n",
      "\t ['Rumble in the Bronx (Hont faan kui) (1995)']\n",
      "\t ['Before and After (1996)']\n",
      "\t ['If Lucy Fell (1996)']\n",
      "\t ['Steal Big, Steal Little (1995)']\n",
      "\t ['Boomerang (1992)']\n",
      "\t ['Pie in the Sky (1996)']\n",
      "Cluster:  1\n",
      "\t ['Leaving Las Vegas (1995)']\n",
      "\t ['Richard III (1995)']\n",
      "\t ['To Die For (1995)']\n",
      "\t ['White Balloon, The (Badkonake sefid) (1995)']\n",
      "\t ['Bottle Rocket (1996)']\n",
      "\t ['Taxi Driver (1976)']\n",
      "\t ['Chungking Express (Chung Hing sam lam) (1994)']\n",
      "\t ['Beauty of the Day (Belle de jour) (1967)']\n",
      "\t ['Clockers (1995)']\n",
      "\t ['Crumb (1994)']\n",
      "\t ['Devil in a Blue Dress (1995)']\n",
      "\t ['Safe (1995)']\n",
      "\t ['Smoke (1995)']\n",
      "\t ['Umbrellas of Cherbourg, The (Parapluies de Cherbourg, Les) (1964)']\n",
      "\t ['Burnt by the Sun (Utomlyonnye solntsem) (1994)']\n",
      "Cluster:  2\n",
      "\t ['Nixon (1995)']\n",
      "\t ['Sense and Sensibility (1995)']\n",
      "\t ['Persuasion (1995)']\n",
      "\t ['Carrington (1995)']\n",
      "\t ['Dead Man Walking (1995)']\n",
      "\t ['Clueless (1995)']\n",
      "\t ['Restoration (1995)']\n",
      "\t ['Mighty Aphrodite (1995)']\n",
      "\t ['Home for the Holidays (1995)']\n",
      "\t ['Postman, The (Postino, Il) (1994)']\n",
      "\t ['French Twist (Gazon maudit) (1995)']\n",
      "\t [\"Antonia's Line (Antonia) (1995)\"]\n",
      "\t ['Once Upon a Time... When We Were Colored (1995)']\n",
      "\t ['Journey of August King, The (1995)']\n",
      "\t [\"Margaret's Museum (1995)\"]\n",
      "Cluster:  3\n",
      "\t ['Waiting to Exhale (1995)']\n",
      "\t ['Cutthroat Island (1995)']\n",
      "\t ['Money Train (1995)']\n",
      "\t ['Assassins (1995)']\n",
      "\t ['Powder (1995)']\n",
      "\t ['Now and Then (1995)']\n",
      "\t ['Dangerous Minds (1995)']\n",
      "\t ['It Takes Two (1995)']\n",
      "\t ['Big Green, The (1995)']\n",
      "\t ['Eye for an Eye (1996)']\n",
      "\t ['Bio-Dome (1996)']\n",
      "\t ['Lawnmower Man 2: Beyond Cyberspace (1996)']\n",
      "\t ['Bed of Roses (1996)']\n",
      "\t ['Dunston Checks In (1996)']\n",
      "\t ['Nick of Time (1995)']\n",
      "Cluster:  4\n",
      "\t ['Sudden Death (1995)']\n",
      "\t ['Dracula: Dead and Loving It (1995)']\n",
      "\t ['Ace Ventura: When Nature Calls (1995)']\n",
      "\t ['Mortal Kombat (1995)']\n",
      "\t [\"Don't Be a Menace to South Central While Drinking Your Juice in the Hood (1996)\"]\n",
      "\t ['Two if by Sea (1996)']\n",
      "\t ['Fair Game (1995)']\n",
      "\t ['Big Bully (1996)']\n",
      "\t ['Screamers (1995)']\n",
      "\t ['Juror, The (1996)']\n",
      "\t ['Black Sheep (1996)']\n",
      "\t ['Jade (1995)']\n",
      "\t ['Canadian Bacon (1995)']\n",
      "\t ['Doom Generation, The (1995)']\n",
      "\t ['Johnny Mnemonic (1995)']\n",
      "Cluster:  5\n",
      "\t ['Shanghai Triad (Yao a yao yao dao waipo qiao) (1995)']\n",
      "\t ['Dead Presidents (1995)']\n",
      "\t ['Lamerica (1994)']\n",
      "\t ['Georgia (1995)']\n",
      "\t ['Confessional, The (Confessionnal, Le) (1995)']\n",
      "\t ['From Dusk Till Dawn (1996)']\n",
      "\t ['Kicking and Screaming (1995)']\n",
      "\t ['Crossing Guard, The (1995)']\n",
      "\t ['Hate (Haine, La) (1995)']\n",
      "\t ['Heidi Fleiss: Hollywood Madam (1995)']\n",
      "\t ['Nobody Loves Me (Keiner liebt mich) (1994)']\n",
      "\t ['Flirting With Disaster (1996)']\n",
      "\t ['From the Journals of Jean Seberg (1995)']\n",
      "\t ['Neon Bible, The (1995)']\n",
      "\t ['Amateur (1994)']\n",
      "Cluster:  6\n",
      "\t ['Heat (1995)']\n",
      "\t ['Casino (1995)']\n",
      "\t ['Four Rooms (1995)']\n",
      "\t ['City of Lost Children, The (Cité des enfants perdus, La) (1995)']\n",
      "\t ['Twelve Monkeys (a.k.a. 12 Monkeys) (1995)']\n",
      "\t ['Cry, the Beloved Country (1995)']\n",
      "\t ['Seven (a.k.a. Se7en) (1995)']\n",
      "\t ['Nico Icon (1995)']\n",
      "\t [\"Things to Do in Denver When You're Dead (1995)\"]\n",
      "\t ['Angels and Insects (1995)']\n",
      "\t ['Beautiful Girls (1996)']\n",
      "\t ['In the Bleak Midwinter (1995)']\n",
      "\t [\"Young Poisoner's Handbook, The (1995)\"]\n",
      "\t [\"Star Maker, The (Uomo delle stelle, L') (1995)\"]\n",
      "\t ['Frankie Starlight (1995)']\n",
      "Cluster:  7\n",
      "\t ['Father of the Bride Part II (1995)']\n",
      "\t ['Tom and Huck (1995)']\n",
      "\t ['Unforgettable (1996)']\n",
      "\t ['Bad Boys (1995)']\n",
      "\t ['Crimson Tide (1995)']\n",
      "\t ['Die Hard: With a Vengeance (1995)']\n",
      "\t ['First Knight (1995)']\n",
      "\t ['Hackers (1995)']\n",
      "\t ['Drop Zone (1994)']\n",
      "\t ['Forget Paris (1995)']\n",
      "\t ['I.Q. (1994)']\n",
      "\t ['Just Cause (1995)']\n",
      "\t ['Legends of the Fall (1994)']\n",
      "\t ['Love Affair (1994)']\n",
      "\t [\"Mary Shelley's Frankenstein (Frankenstein) (1994)\"]\n",
      "Cluster:  8\n",
      "\t ['Grumpier Old Men (1995)']\n",
      "\t ['Sabrina (1995)']\n",
      "\t ['American President, The (1995)']\n",
      "\t ['Balto (1995)']\n",
      "\t ['Copycat (1995)']\n",
      "\t ['Babe (1995)']\n",
      "\t ['How to Make an American Quilt (1995)']\n",
      "\t ['Pocahontas (1995)']\n",
      "\t ['Indian in the Cupboard, The (1995)']\n",
      "\t [\"Mr. Holland's Opus (1995)\"]\n",
      "\t ['Misérables, Les (1995)']\n",
      "\t ['White Squall (1996)']\n",
      "\t ['Bridges of Madison County, The (1995)']\n",
      "\t ['Birdcage, The (1996)']\n",
      "\t ['Apollo 13 (1995)']\n",
      "Cluster:  9\n",
      "\t ['Toy Story (1995)']\n",
      "\t ['GoldenEye (1995)']\n",
      "\t ['Get Shorty (1995)']\n",
      "\t ['Usual Suspects, The (1995)']\n",
      "\t ['Friday (1995)']\n",
      "\t ['Happy Gilmore (1996)']\n",
      "\t ['Braveheart (1995)']\n",
      "\t ['Desperado (1995)']\n",
      "\t ['Mallrats (1995)']\n",
      "\t ['Billy Madison (1995)']\n",
      "\t ['Star Wars: Episode IV - A New Hope (1977)']\n",
      "\t ['Shawshank Redemption, The (1994)']\n",
      "\t ['Tommy Boy (1995)']\n",
      "\t ['Ace Ventura: Pet Detective (1994)']\n",
      "\t ['Crow, The (1994)']\n"
     ]
    }
   ],
   "source": [
    "for cluster in range(clusters):\n",
    "    print('Cluster: ',cluster)\n",
    "    movs = []\n",
    "    \n",
    "    for movidx in np.where(kmeans.labels_==cluster)[0]:\n",
    "        # print(movidx)\n",
    "        movieid = dataset.idx2movieId[movidx]\n",
    "        movie_title = movie_df[movie_df.movieId==movieid].title.values\n",
    "        movs.append(movie_title)\n",
    "        print('\\t',movie_title)\n",
    "        \n",
    "        if len(movs)==15:\n",
    "            break"
   ]
  },
  {
   "cell_type": "code",
   "execution_count": 54,
   "metadata": {},
   "outputs": [],
   "source": [
    "import torch.nn.functional as F\n",
    "\n",
    "def find_similar_movies(target_movie_embedding, all_movie_embeddings, top_n=5):\n",
    "    with torch.inference_mode():\n",
    "        # Calculate cosine similarity\n",
    "        similarity_scores = F.cosine_similarity(target_movie_embedding, all_movie_embeddings, dim=1)\n",
    "        \n",
    "        # Sort movies based on similarity scores\n",
    "        sorted_indices = torch.argsort(similarity_scores, descending=True)\n",
    "        \n",
    "        # Get top N similar movie indices\n",
    "        top_indices = sorted_indices[:top_n]\n",
    "        \n",
    "        # return top_indices\n",
    "        return top_indices"
   ]
  },
  {
   "cell_type": "code",
   "execution_count": 55,
   "metadata": {},
   "outputs": [],
   "source": [
    "def more_movies(idx, n:int=10):\n",
    "    if isinstance(idx, int):\n",
    "        new_movie_id = dataset.movieId2idx[idx]\n",
    "        print(f'Movie : {get_movie_name(idx, new_movie_df)}')\n",
    "\n",
    "    elif isinstance(idx, str):\n",
    "        new_movie_id = dataset.movieId2idx[get_movie_id(idx, new_movie_df)]\n",
    "        print(f'Movie: {idx}')\n",
    "        \n",
    "    \n",
    "    target_movie_embedding = model.movie_embedding(torch.tensor(new_movie_id).to(device)).unsqueeze(0)\n",
    "    all_movie_embeddings = model.movie_embedding.weight.data\n",
    "\n",
    "    # Find similar movies\n",
    "    similar_movie_indices = find_similar_movies(target_movie_embedding, all_movie_embeddings, top_n=n+1)\n",
    "\n",
    "    movies = []\n",
    "    for num, i in enumerate(similar_movie_indices,1):\n",
    "        # print(i)\n",
    "        movies.append(movie_df[movie_df.movieId==dataset.idx2movieId[i.item()]]['title'].values[0])     \n",
    "    return movies      "
   ]
  },
  {
   "cell_type": "code",
   "execution_count": 56,
   "metadata": {},
   "outputs": [],
   "source": [
    "# movie_df[movie_df.title.str.contains('venger')]"
   ]
  },
  {
   "cell_type": "code",
   "execution_count": 57,
   "metadata": {},
   "outputs": [
    {
     "name": "stdout",
     "output_type": "stream",
     "text": [
      "46664\n"
     ]
    }
   ],
   "source": [
    "random_movie_id = int(new_user_df.sample(1).movieId.values[0])\n",
    "print(random_movie_id)"
   ]
  },
  {
   "cell_type": "code",
   "execution_count": 58,
   "metadata": {},
   "outputs": [
    {
     "name": "stdout",
     "output_type": "stream",
     "text": [
      "Sanjuro (Tsubaki Sanjûrô) (1962)\n"
     ]
    }
   ],
   "source": [
    "random_movie_name = new_movie_df.sample(1).title.values[0]\n",
    "print(random_movie_name)"
   ]
  },
  {
   "cell_type": "code",
   "execution_count": null,
   "metadata": {},
   "outputs": [],
   "source": []
  },
  {
   "cell_type": "code",
   "execution_count": 59,
   "metadata": {},
   "outputs": [
    {
     "data": {
      "text/html": [
       "<div>\n",
       "<style scoped>\n",
       "    .dataframe tbody tr th:only-of-type {\n",
       "        vertical-align: middle;\n",
       "    }\n",
       "\n",
       "    .dataframe tbody tr th {\n",
       "        vertical-align: top;\n",
       "    }\n",
       "\n",
       "    .dataframe thead th {\n",
       "        text-align: right;\n",
       "    }\n",
       "</style>\n",
       "<table border=\"1\" class=\"dataframe\">\n",
       "  <thead>\n",
       "    <tr style=\"text-align: right;\">\n",
       "      <th></th>\n",
       "      <th>movieId</th>\n",
       "      <th>title</th>\n",
       "      <th>genres</th>\n",
       "    </tr>\n",
       "  </thead>\n",
       "  <tbody>\n",
       "    <tr>\n",
       "      <th>2069</th>\n",
       "      <td>2153</td>\n",
       "      <td>Avengers, The (1998)</td>\n",
       "      <td>Action|Adventure</td>\n",
       "    </tr>\n",
       "    <tr>\n",
       "      <th>3602</th>\n",
       "      <td>3693</td>\n",
       "      <td>Toxic Avenger, The (1985)</td>\n",
       "      <td>Comedy|Horror</td>\n",
       "    </tr>\n",
       "    <tr>\n",
       "      <th>3603</th>\n",
       "      <td>3694</td>\n",
       "      <td>Toxic Avenger, Part II, The (1989)</td>\n",
       "      <td>Comedy|Horror</td>\n",
       "    </tr>\n",
       "    <tr>\n",
       "      <th>3604</th>\n",
       "      <td>3695</td>\n",
       "      <td>Toxic Avenger Part III: The Last Temptation of...</td>\n",
       "      <td>Comedy|Horror</td>\n",
       "    </tr>\n",
       "    <tr>\n",
       "      <th>17506</th>\n",
       "      <td>88140</td>\n",
       "      <td>Captain America: The First Avenger (2011)</td>\n",
       "      <td>Action|Adventure|Sci-Fi|Thriller|War</td>\n",
       "    </tr>\n",
       "    <tr>\n",
       "      <th>17874</th>\n",
       "      <td>89745</td>\n",
       "      <td>Avengers, The (2012)</td>\n",
       "      <td>Action|Adventure|Sci-Fi|IMAX</td>\n",
       "    </tr>\n",
       "  </tbody>\n",
       "</table>\n",
       "</div>"
      ],
      "text/plain": [
       "       movieId                                              title  \\\n",
       "2069      2153                               Avengers, The (1998)   \n",
       "3602      3693                          Toxic Avenger, The (1985)   \n",
       "3603      3694                 Toxic Avenger, Part II, The (1989)   \n",
       "3604      3695  Toxic Avenger Part III: The Last Temptation of...   \n",
       "17506    88140          Captain America: The First Avenger (2011)   \n",
       "17874    89745                               Avengers, The (2012)   \n",
       "\n",
       "                                     genres  \n",
       "2069                       Action|Adventure  \n",
       "3602                          Comedy|Horror  \n",
       "3603                          Comedy|Horror  \n",
       "3604                          Comedy|Horror  \n",
       "17506  Action|Adventure|Sci-Fi|Thriller|War  \n",
       "17874          Action|Adventure|Sci-Fi|IMAX  "
      ]
     },
     "execution_count": 59,
     "metadata": {},
     "output_type": "execute_result"
    }
   ],
   "source": [
    "# use this as search bar\n",
    "search = 'avenger'\n",
    "new_movie_df[new_movie_df.title.str.lower().str.contains(str(search))]"
   ]
  },
  {
   "cell_type": "code",
   "execution_count": 60,
   "metadata": {},
   "outputs": [
    {
     "name": "stdout",
     "output_type": "stream",
     "text": [
      "Movie: Avengers, The (1998)\n"
     ]
    },
    {
     "data": {
      "text/plain": [
       "['Avengers, The (1998)',\n",
       " 'Levity (2003)',\n",
       " 'Resident Evil: Extinction (2007)',\n",
       " 'Imagine Me & You (2005)',\n",
       " 'Carrie (2013)',\n",
       " 'Priest (2011)',\n",
       " 'Tomcats (2001)',\n",
       " 'Johnny Be Good (1988)',\n",
       " 'Fatal Beauty (1987)',\n",
       " 'Whole Ten Yards, The (2004)',\n",
       " 'Original Sin (2001)']"
      ]
     },
     "metadata": {},
     "output_type": "display_data"
    },
    {
     "name": "stdout",
     "output_type": "stream",
     "text": [
      "Movie: Avengers, The (2012)\n"
     ]
    },
    {
     "data": {
      "text/plain": [
       "['Avengers, The (2012)',\n",
       " 'Star Trek (2009)',\n",
       " 'Captain America: The Winter Soldier (2014)',\n",
       " 'How to Train Your Dragon (2010)',\n",
       " 'Kung Fu Panda (2008)',\n",
       " 'Iron Man (2008)',\n",
       " 'Street Kings (2008)',\n",
       " 'X-Men: First Class (2011)',\n",
       " 'Sherlock Holmes (2009)',\n",
       " 'Guardians of the Galaxy (2014)',\n",
       " 'Batman Begins (2005)']"
      ]
     },
     "metadata": {},
     "output_type": "display_data"
    },
    {
     "name": "stdout",
     "output_type": "stream",
     "text": [
      "Movie: Captain America: The First Avenger (2011)\n"
     ]
    },
    {
     "data": {
      "text/plain": [
       "['Captain America: The First Avenger (2011)',\n",
       " 'John Carter (2012)',\n",
       " 'Street Kings (2008)',\n",
       " 'Mission: Impossible - Ghost Protocol (2011)',\n",
       " 'Hellboy (2004)',\n",
       " 'Monster House (2006)',\n",
       " 'Iron Man (2008)',\n",
       " 'Killer, The (Die xue shuang xiong) (1989)',\n",
       " 'Arthur Christmas (2011)',\n",
       " 'Baby Mama (2008)',\n",
       " 'Fast Five (Fast and the Furious 5, The) (2011)']"
      ]
     },
     "metadata": {},
     "output_type": "display_data"
    }
   ],
   "source": [
    "pp = ['Avengers, The (1998)','Avengers, The (2012)','Captain America: The First Avenger (2011)' ]\n",
    "\n",
    "for i in pp:\n",
    "    display(more_movies(idx = i))"
   ]
  },
  {
   "cell_type": "markdown",
   "metadata": {},
   "source": [
    "Our prediction looks perfect. \n",
    "> Note: more the ratings well adjusted the embeddings, movies with less ratings can be seen randomly at any place, because there place in the embedding space is not adjusted enough as highly rated movies."
   ]
  },
  {
   "cell_type": "code",
   "execution_count": null,
   "metadata": {},
   "outputs": [],
   "source": []
  }
 ],
 "metadata": {
  "kernelspec": {
   "display_name": "Python 3",
   "language": "python",
   "name": "python3"
  },
  "language_info": {
   "codemirror_mode": {
    "name": "ipython",
    "version": 3
   },
   "file_extension": ".py",
   "mimetype": "text/x-python",
   "name": "python",
   "nbconvert_exporter": "python",
   "pygments_lexer": "ipython3",
   "version": "3.11.4"
  }
 },
 "nbformat": 4,
 "nbformat_minor": 2
}
