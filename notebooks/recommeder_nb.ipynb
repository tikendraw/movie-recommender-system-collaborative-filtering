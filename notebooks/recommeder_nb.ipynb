{
 "cells": [
  {
   "cell_type": "code",
   "execution_count": 118,
   "metadata": {},
   "outputs": [],
   "source": [
    "from sklearn.model_selection import train_test_split\n",
    "\n",
    "import pandas as pd\n",
    "import numpy as np\n",
    "\n",
    "import os, time, random\n",
    "from pathlib import Path"
   ]
  },
  {
   "cell_type": "code",
   "execution_count": 119,
   "metadata": {},
   "outputs": [],
   "source": [
    "cur_dir = Path('.').absolute()\n",
    "data_dir=cur_dir.parent/ 'data'"
   ]
  },
  {
   "cell_type": "code",
   "execution_count": 120,
   "metadata": {},
   "outputs": [
    {
     "data": {
      "text/plain": [
       "[PosixPath('/home/t/aproject/movie-recommender-system(collaborati/data/tag.csv'),\n",
       " PosixPath('/home/t/aproject/movie-recommender-system(collaborati/data/movie.csv'),\n",
       " PosixPath('/home/t/aproject/movie-recommender-system(collaborati/data/link.csv'),\n",
       " PosixPath('/home/t/aproject/movie-recommender-system(collaborati/data/rating.csv'),\n",
       " PosixPath('/home/t/aproject/movie-recommender-system(collaborati/data/movies.csv'),\n",
       " PosixPath('/home/t/aproject/movie-recommender-system(collaborati/data/genome_tags.csv'),\n",
       " PosixPath('/home/t/aproject/movie-recommender-system(collaborati/data/genome_scores.csv')]"
      ]
     },
     "execution_count": 120,
     "metadata": {},
     "output_type": "execute_result"
    }
   ],
   "source": [
    "list(data_dir.iterdir())"
   ]
  },
  {
   "cell_type": "markdown",
   "metadata": {},
   "source": [
    "## Exploring Movie df"
   ]
  },
  {
   "cell_type": "code",
   "execution_count": 185,
   "metadata": {},
   "outputs": [],
   "source": [
    "movie_df = pd.read_csv(data_dir/'movie.csv')"
   ]
  },
  {
   "cell_type": "code",
   "execution_count": 186,
   "metadata": {},
   "outputs": [
    {
     "name": "stdout",
     "output_type": "stream",
     "text": [
      "<class 'pandas.core.frame.DataFrame'>\n",
      "RangeIndex: 27278 entries, 0 to 27277\n",
      "Data columns (total 3 columns):\n",
      " #   Column   Non-Null Count  Dtype \n",
      "---  ------   --------------  ----- \n",
      " 0   movieId  27278 non-null  int64 \n",
      " 1   title    27278 non-null  object\n",
      " 2   genres   27278 non-null  object\n",
      "dtypes: int64(1), object(2)\n",
      "memory usage: 639.5+ KB\n"
     ]
    }
   ],
   "source": [
    "movie_df.info()"
   ]
  },
  {
   "cell_type": "code",
   "execution_count": 187,
   "metadata": {},
   "outputs": [
    {
     "data": {
      "text/html": [
       "<div>\n",
       "<style scoped>\n",
       "    .dataframe tbody tr th:only-of-type {\n",
       "        vertical-align: middle;\n",
       "    }\n",
       "\n",
       "    .dataframe tbody tr th {\n",
       "        vertical-align: top;\n",
       "    }\n",
       "\n",
       "    .dataframe thead th {\n",
       "        text-align: right;\n",
       "    }\n",
       "</style>\n",
       "<table border=\"1\" class=\"dataframe\">\n",
       "  <thead>\n",
       "    <tr style=\"text-align: right;\">\n",
       "      <th></th>\n",
       "      <th>movieId</th>\n",
       "      <th>title</th>\n",
       "      <th>genres</th>\n",
       "    </tr>\n",
       "  </thead>\n",
       "  <tbody>\n",
       "    <tr>\n",
       "      <th>0</th>\n",
       "      <td>1</td>\n",
       "      <td>Toy Story (1995)</td>\n",
       "      <td>Adventure|Animation|Children|Comedy|Fantasy</td>\n",
       "    </tr>\n",
       "    <tr>\n",
       "      <th>1</th>\n",
       "      <td>2</td>\n",
       "      <td>Jumanji (1995)</td>\n",
       "      <td>Adventure|Children|Fantasy</td>\n",
       "    </tr>\n",
       "    <tr>\n",
       "      <th>2</th>\n",
       "      <td>3</td>\n",
       "      <td>Grumpier Old Men (1995)</td>\n",
       "      <td>Comedy|Romance</td>\n",
       "    </tr>\n",
       "    <tr>\n",
       "      <th>3</th>\n",
       "      <td>4</td>\n",
       "      <td>Waiting to Exhale (1995)</td>\n",
       "      <td>Comedy|Drama|Romance</td>\n",
       "    </tr>\n",
       "    <tr>\n",
       "      <th>4</th>\n",
       "      <td>5</td>\n",
       "      <td>Father of the Bride Part II (1995)</td>\n",
       "      <td>Comedy</td>\n",
       "    </tr>\n",
       "  </tbody>\n",
       "</table>\n",
       "</div>"
      ],
      "text/plain": [
       "   movieId                               title  \\\n",
       "0        1                    Toy Story (1995)   \n",
       "1        2                      Jumanji (1995)   \n",
       "2        3             Grumpier Old Men (1995)   \n",
       "3        4            Waiting to Exhale (1995)   \n",
       "4        5  Father of the Bride Part II (1995)   \n",
       "\n",
       "                                        genres  \n",
       "0  Adventure|Animation|Children|Comedy|Fantasy  \n",
       "1                   Adventure|Children|Fantasy  \n",
       "2                               Comedy|Romance  \n",
       "3                         Comedy|Drama|Romance  \n",
       "4                                       Comedy  "
      ]
     },
     "execution_count": 187,
     "metadata": {},
     "output_type": "execute_result"
    }
   ],
   "source": [
    "movie_df.head()"
   ]
  },
  {
   "cell_type": "code",
   "execution_count": 188,
   "metadata": {},
   "outputs": [
    {
     "data": {
      "text/plain": [
       "movieId    0\n",
       "title      0\n",
       "genres     0\n",
       "dtype: int64"
      ]
     },
     "execution_count": 188,
     "metadata": {},
     "output_type": "execute_result"
    }
   ],
   "source": [
    "movie_df.isna().sum() # no nulls"
   ]
  },
  {
   "cell_type": "code",
   "execution_count": 189,
   "metadata": {},
   "outputs": [
    {
     "data": {
      "text/plain": [
       "0"
      ]
     },
     "execution_count": 189,
     "metadata": {},
     "output_type": "execute_result"
    }
   ],
   "source": [
    "movie_df.duplicated().sum() #no duplicates"
   ]
  },
  {
   "cell_type": "code",
   "execution_count": 190,
   "metadata": {},
   "outputs": [
    {
     "data": {
      "text/plain": [
       "27262"
      ]
     },
     "execution_count": 190,
     "metadata": {},
     "output_type": "execute_result"
    }
   ],
   "source": [
    "movie_df.title.nunique()"
   ]
  },
  {
   "cell_type": "code",
   "execution_count": 191,
   "metadata": {},
   "outputs": [
    {
     "name": "stdout",
     "output_type": "stream",
     "text": [
      "['Aladdin (1992)', 'Johnny Express (2014)', 'Chaos (2005)', 'Hamlet (2000)', '20,000 Leagues Under the Sea (1997)', 'Darling (2007)', 'Casanova (2005)', 'Paradise (2013)', 'Beneath (2013)', 'Girl, The (2012)', 'Clear History (2013)', 'Emma (1996)', 'Offside (2006)', 'Blackout (2007)', 'Men with Guns (1997)', 'War of the Worlds (2005)']\n"
     ]
    }
   ],
   "source": [
    "\n",
    "# Calculate the value counts for each movie title\n",
    "title_value_counts = movie_df['title'].value_counts()\n",
    "\n",
    "# Filter titles that appear more than once\n",
    "duplicate_titles = title_value_counts[title_value_counts > 1].index.tolist()\n",
    "\n",
    "print(duplicate_titles)"
   ]
  },
  {
   "cell_type": "markdown",
   "metadata": {},
   "source": [
    "Some movies have multiple entries with different `movieid` , but it doesn't affect much "
   ]
  },
  {
   "cell_type": "code",
   "execution_count": 192,
   "metadata": {},
   "outputs": [
    {
     "data": {
      "text/plain": [
       "0    Adventure|Animation|Children|Comedy|Fantasy\n",
       "1                     Adventure|Children|Fantasy\n",
       "2                                 Comedy|Romance\n",
       "3                           Comedy|Drama|Romance\n",
       "4                                         Comedy\n",
       "Name: genres, dtype: object"
      ]
     },
     "execution_count": 192,
     "metadata": {},
     "output_type": "execute_result"
    }
   ],
   "source": [
    "movie_df.genres.head()"
   ]
  },
  {
   "cell_type": "markdown",
   "metadata": {},
   "source": [
    "so in genres column there seems to have no spaces bw genres, lets see want unique genres as there"
   ]
  },
  {
   "cell_type": "code",
   "execution_count": 193,
   "metadata": {},
   "outputs": [],
   "source": [
    "all_genres = movie_df.genres.apply(lambda x : ' '.join(str(x).split('|'))).values.tolist() # split from |\n",
    "all_genres = ' '.join(set(all_genres)).split() # join all strings and break them into words\n",
    "all_genres = set(all_genres)  # make a set to find unique ones"
   ]
  },
  {
   "cell_type": "code",
   "execution_count": 194,
   "metadata": {},
   "outputs": [
    {
     "name": "stdout",
     "output_type": "stream",
     "text": [
      "{'Animation', 'Children', 'Western', 'Mystery', 'Romance', 'Crime', 'Adventure', '(no', 'Documentary', 'Musical', 'War', 'IMAX', 'Sci-Fi', 'Horror', 'Comedy', 'Thriller', 'Film-Noir', 'Drama', 'listed)', 'Fantasy', 'genres', 'Action'} 22\n"
     ]
    }
   ],
   "source": [
    "print(all_genres, len(all_genres))"
   ]
  },
  {
   "cell_type": "markdown",
   "metadata": {},
   "source": [
    "there are 20 genres and 1 for movies with no genre (which is (no listed)) which is broken as '(no' and 'listed)'"
   ]
  },
  {
   "cell_type": "code",
   "execution_count": 195,
   "metadata": {},
   "outputs": [],
   "source": [
    "movie_df['tags'] = movie_df['title'] + ' ' + movie_df['genres'].apply(lambda x: ' '.join(str(x).split('|')))"
   ]
  },
  {
   "cell_type": "code",
   "execution_count": 196,
   "metadata": {},
   "outputs": [],
   "source": [
    "# movie_df['Title'] = movie_df.title.apply(lambda x : str(x).split('(')[0])\n",
    "# movie_df['Year'] = movie_df.title.apply(lambda x : (str(x).split('(')[-1]).strip(')'))"
   ]
  },
  {
   "cell_type": "code",
   "execution_count": 197,
   "metadata": {},
   "outputs": [
    {
     "data": {
      "text/html": [
       "<div>\n",
       "<style scoped>\n",
       "    .dataframe tbody tr th:only-of-type {\n",
       "        vertical-align: middle;\n",
       "    }\n",
       "\n",
       "    .dataframe tbody tr th {\n",
       "        vertical-align: top;\n",
       "    }\n",
       "\n",
       "    .dataframe thead th {\n",
       "        text-align: right;\n",
       "    }\n",
       "</style>\n",
       "<table border=\"1\" class=\"dataframe\">\n",
       "  <thead>\n",
       "    <tr style=\"text-align: right;\">\n",
       "      <th></th>\n",
       "      <th>movieId</th>\n",
       "      <th>title</th>\n",
       "      <th>genres</th>\n",
       "      <th>tags</th>\n",
       "    </tr>\n",
       "  </thead>\n",
       "  <tbody>\n",
       "    <tr>\n",
       "      <th>14524</th>\n",
       "      <td>72698</td>\n",
       "      <td>Out of Reach (2004)</td>\n",
       "      <td>Action|Drama|Romance|Thriller</td>\n",
       "      <td>Out of Reach (2004) Action Drama Romance Thriller</td>\n",
       "    </tr>\n",
       "    <tr>\n",
       "      <th>19845</th>\n",
       "      <td>98022</td>\n",
       "      <td>Sleepless Night (Nuit blanche) (2011)</td>\n",
       "      <td>Action|Crime|Thriller</td>\n",
       "      <td>Sleepless Night (Nuit blanche) (2011) Action C...</td>\n",
       "    </tr>\n",
       "    <tr>\n",
       "      <th>21511</th>\n",
       "      <td>104356</td>\n",
       "      <td>Museum Hours (2013)</td>\n",
       "      <td>Drama</td>\n",
       "      <td>Museum Hours (2013) Drama</td>\n",
       "    </tr>\n",
       "    <tr>\n",
       "      <th>3642</th>\n",
       "      <td>3733</td>\n",
       "      <td>Paper Chase, The (1973)</td>\n",
       "      <td>Drama</td>\n",
       "      <td>Paper Chase, The (1973) Drama</td>\n",
       "    </tr>\n",
       "    <tr>\n",
       "      <th>9638</th>\n",
       "      <td>31090</td>\n",
       "      <td>Fuhrer Ex (Führer EX) (2002)</td>\n",
       "      <td>Drama</td>\n",
       "      <td>Fuhrer Ex (Führer EX) (2002) Drama</td>\n",
       "    </tr>\n",
       "    <tr>\n",
       "      <th>5693</th>\n",
       "      <td>5792</td>\n",
       "      <td>Roger Dodger (2002)</td>\n",
       "      <td>Comedy|Drama</td>\n",
       "      <td>Roger Dodger (2002) Comedy Drama</td>\n",
       "    </tr>\n",
       "    <tr>\n",
       "      <th>14788</th>\n",
       "      <td>73983</td>\n",
       "      <td>Maid, The (Nana, La) (2009)</td>\n",
       "      <td>Drama</td>\n",
       "      <td>Maid, The (Nana, La) (2009) Drama</td>\n",
       "    </tr>\n",
       "    <tr>\n",
       "      <th>19201</th>\n",
       "      <td>95504</td>\n",
       "      <td>Virtual JFK: Vietnam If Kennedy Had Lived (2008)</td>\n",
       "      <td>Documentary</td>\n",
       "      <td>Virtual JFK: Vietnam If Kennedy Had Lived (200...</td>\n",
       "    </tr>\n",
       "    <tr>\n",
       "      <th>21484</th>\n",
       "      <td>104249</td>\n",
       "      <td>Mr. Moto in Danger Island (1939)</td>\n",
       "      <td>Crime|Drama|Mystery|Thriller</td>\n",
       "      <td>Mr. Moto in Danger Island (1939) Crime Drama M...</td>\n",
       "    </tr>\n",
       "    <tr>\n",
       "      <th>26290</th>\n",
       "      <td>126186</td>\n",
       "      <td>The Sex and Violence Family Hour (1983)</td>\n",
       "      <td>(no genres listed)</td>\n",
       "      <td>The Sex and Violence Family Hour (1983) (no ge...</td>\n",
       "    </tr>\n",
       "    <tr>\n",
       "      <th>14323</th>\n",
       "      <td>71740</td>\n",
       "      <td>Tales of Hoffmann, The (1951)</td>\n",
       "      <td>Adventure|Fantasy|Musical|Romance</td>\n",
       "      <td>Tales of Hoffmann, The (1951) Adventure Fantas...</td>\n",
       "    </tr>\n",
       "    <tr>\n",
       "      <th>12578</th>\n",
       "      <td>58964</td>\n",
       "      <td>Inside (À l'intérieur) (2007)</td>\n",
       "      <td>Horror|Thriller</td>\n",
       "      <td>Inside (À l'intérieur) (2007) Horror Thriller</td>\n",
       "    </tr>\n",
       "    <tr>\n",
       "      <th>26894</th>\n",
       "      <td>129335</td>\n",
       "      <td>A Summer in La Goulette (1996)</td>\n",
       "      <td>Comedy|Drama</td>\n",
       "      <td>A Summer in La Goulette (1996) Comedy Drama</td>\n",
       "    </tr>\n",
       "    <tr>\n",
       "      <th>4656</th>\n",
       "      <td>4752</td>\n",
       "      <td>Maniac (1980)</td>\n",
       "      <td>Horror</td>\n",
       "      <td>Maniac (1980) Horror</td>\n",
       "    </tr>\n",
       "    <tr>\n",
       "      <th>25602</th>\n",
       "      <td>121097</td>\n",
       "      <td>To Grandmother's House We Go (1992)</td>\n",
       "      <td>Adventure|Children|Comedy</td>\n",
       "      <td>To Grandmother's House We Go (1992) Adventure ...</td>\n",
       "    </tr>\n",
       "    <tr>\n",
       "      <th>9788</th>\n",
       "      <td>31907</td>\n",
       "      <td>Dragonworld (1994)</td>\n",
       "      <td>Adventure|Fantasy</td>\n",
       "      <td>Dragonworld (1994) Adventure Fantasy</td>\n",
       "    </tr>\n",
       "    <tr>\n",
       "      <th>17166</th>\n",
       "      <td>86813</td>\n",
       "      <td>Persona non grata (2005)</td>\n",
       "      <td>Drama</td>\n",
       "      <td>Persona non grata (2005) Drama</td>\n",
       "    </tr>\n",
       "    <tr>\n",
       "      <th>9271</th>\n",
       "      <td>27307</td>\n",
       "      <td>Night of the Day of the Dawn of the Son of the...</td>\n",
       "      <td>Comedy|Horror</td>\n",
       "      <td>Night of the Day of the Dawn of the Son of the...</td>\n",
       "    </tr>\n",
       "    <tr>\n",
       "      <th>3220</th>\n",
       "      <td>3307</td>\n",
       "      <td>City Lights (1931)</td>\n",
       "      <td>Comedy|Drama|Romance</td>\n",
       "      <td>City Lights (1931) Comedy Drama Romance</td>\n",
       "    </tr>\n",
       "    <tr>\n",
       "      <th>11443</th>\n",
       "      <td>49183</td>\n",
       "      <td>Vital (2004)</td>\n",
       "      <td>Thriller</td>\n",
       "      <td>Vital (2004) Thriller</td>\n",
       "    </tr>\n",
       "    <tr>\n",
       "      <th>13925</th>\n",
       "      <td>69792</td>\n",
       "      <td>Madigan (1968)</td>\n",
       "      <td>Crime|Drama</td>\n",
       "      <td>Madigan (1968) Crime Drama</td>\n",
       "    </tr>\n",
       "    <tr>\n",
       "      <th>9435</th>\n",
       "      <td>27704</td>\n",
       "      <td>Battle Royale 2: Requiem (Batoru rowaiaru II: ...</td>\n",
       "      <td>Action|Drama|Thriller|War</td>\n",
       "      <td>Battle Royale 2: Requiem (Batoru rowaiaru II: ...</td>\n",
       "    </tr>\n",
       "  </tbody>\n",
       "</table>\n",
       "</div>"
      ],
      "text/plain": [
       "       movieId                                              title  \\\n",
       "14524    72698                                Out of Reach (2004)   \n",
       "19845    98022              Sleepless Night (Nuit blanche) (2011)   \n",
       "21511   104356                                Museum Hours (2013)   \n",
       "3642      3733                            Paper Chase, The (1973)   \n",
       "9638     31090                       Fuhrer Ex (Führer EX) (2002)   \n",
       "5693      5792                                Roger Dodger (2002)   \n",
       "14788    73983                        Maid, The (Nana, La) (2009)   \n",
       "19201    95504   Virtual JFK: Vietnam If Kennedy Had Lived (2008)   \n",
       "21484   104249                   Mr. Moto in Danger Island (1939)   \n",
       "26290   126186            The Sex and Violence Family Hour (1983)   \n",
       "14323    71740                      Tales of Hoffmann, The (1951)   \n",
       "12578    58964                      Inside (À l'intérieur) (2007)   \n",
       "26894   129335                     A Summer in La Goulette (1996)   \n",
       "4656      4752                                      Maniac (1980)   \n",
       "25602   121097                To Grandmother's House We Go (1992)   \n",
       "9788     31907                                 Dragonworld (1994)   \n",
       "17166    86813                           Persona non grata (2005)   \n",
       "9271     27307  Night of the Day of the Dawn of the Son of the...   \n",
       "3220      3307                                 City Lights (1931)   \n",
       "11443    49183                                       Vital (2004)   \n",
       "13925    69792                                     Madigan (1968)   \n",
       "9435     27704  Battle Royale 2: Requiem (Batoru rowaiaru II: ...   \n",
       "\n",
       "                                  genres  \\\n",
       "14524      Action|Drama|Romance|Thriller   \n",
       "19845              Action|Crime|Thriller   \n",
       "21511                              Drama   \n",
       "3642                               Drama   \n",
       "9638                               Drama   \n",
       "5693                        Comedy|Drama   \n",
       "14788                              Drama   \n",
       "19201                        Documentary   \n",
       "21484       Crime|Drama|Mystery|Thriller   \n",
       "26290                 (no genres listed)   \n",
       "14323  Adventure|Fantasy|Musical|Romance   \n",
       "12578                    Horror|Thriller   \n",
       "26894                       Comedy|Drama   \n",
       "4656                              Horror   \n",
       "25602          Adventure|Children|Comedy   \n",
       "9788                   Adventure|Fantasy   \n",
       "17166                              Drama   \n",
       "9271                       Comedy|Horror   \n",
       "3220                Comedy|Drama|Romance   \n",
       "11443                           Thriller   \n",
       "13925                        Crime|Drama   \n",
       "9435           Action|Drama|Thriller|War   \n",
       "\n",
       "                                                    tags  \n",
       "14524  Out of Reach (2004) Action Drama Romance Thriller  \n",
       "19845  Sleepless Night (Nuit blanche) (2011) Action C...  \n",
       "21511                          Museum Hours (2013) Drama  \n",
       "3642                       Paper Chase, The (1973) Drama  \n",
       "9638                  Fuhrer Ex (Führer EX) (2002) Drama  \n",
       "5693                    Roger Dodger (2002) Comedy Drama  \n",
       "14788                  Maid, The (Nana, La) (2009) Drama  \n",
       "19201  Virtual JFK: Vietnam If Kennedy Had Lived (200...  \n",
       "21484  Mr. Moto in Danger Island (1939) Crime Drama M...  \n",
       "26290  The Sex and Violence Family Hour (1983) (no ge...  \n",
       "14323  Tales of Hoffmann, The (1951) Adventure Fantas...  \n",
       "12578      Inside (À l'intérieur) (2007) Horror Thriller  \n",
       "26894        A Summer in La Goulette (1996) Comedy Drama  \n",
       "4656                                Maniac (1980) Horror  \n",
       "25602  To Grandmother's House We Go (1992) Adventure ...  \n",
       "9788                Dragonworld (1994) Adventure Fantasy  \n",
       "17166                     Persona non grata (2005) Drama  \n",
       "9271   Night of the Day of the Dawn of the Son of the...  \n",
       "3220             City Lights (1931) Comedy Drama Romance  \n",
       "11443                              Vital (2004) Thriller  \n",
       "13925                         Madigan (1968) Crime Drama  \n",
       "9435   Battle Royale 2: Requiem (Batoru rowaiaru II: ...  "
      ]
     },
     "execution_count": 197,
     "metadata": {},
     "output_type": "execute_result"
    }
   ],
   "source": [
    "movie_df.sample(22)"
   ]
  },
  {
   "cell_type": "markdown",
   "metadata": {},
   "source": [
    "## Exploraing User data"
   ]
  },
  {
   "cell_type": "code",
   "execution_count": 203,
   "metadata": {},
   "outputs": [],
   "source": [
    "user_df = pd.read_csv(data_dir/'rating.csv', usecols=['userId','movieId','rating'])"
   ]
  },
  {
   "cell_type": "code",
   "execution_count": 213,
   "metadata": {},
   "outputs": [
    {
     "name": "stdout",
     "output_type": "stream",
     "text": [
      "\n"
     ]
    }
   ],
   "source": [
    "# this columns are using too much precision for very low values, lowering the datatype precision\n",
    "user_df['movieId'] = user_df['movieId'].astype('int16')\n",
    "user_df['userId'] = user_df['userId'].astype('int16')\n",
    "user_df['rating'] = user_df['rating'].astype('float16')\n",
    "print()"
   ]
  },
  {
   "cell_type": "code",
   "execution_count": 208,
   "metadata": {},
   "outputs": [
    {
     "data": {
      "text/plain": [
       "(20000263, 3)"
      ]
     },
     "execution_count": 208,
     "metadata": {},
     "output_type": "execute_result"
    }
   ],
   "source": [
    "user_df.shape #(20000263,4)"
   ]
  },
  {
   "cell_type": "code",
   "execution_count": 214,
   "metadata": {},
   "outputs": [
    {
     "name": "stdout",
     "output_type": "stream",
     "text": [
      "<class 'pandas.core.frame.DataFrame'>\n",
      "RangeIndex: 20000263 entries, 0 to 20000262\n",
      "Data columns (total 3 columns):\n",
      " #   Column   Dtype  \n",
      "---  ------   -----  \n",
      " 0   userId   int16  \n",
      " 1   movieId  int16  \n",
      " 2   rating   float16\n",
      "dtypes: float16(1), int16(2)\n",
      "memory usage: 114.4 MB\n"
     ]
    }
   ],
   "source": [
    "user_df.info()"
   ]
  },
  {
   "cell_type": "code",
   "execution_count": 216,
   "metadata": {},
   "outputs": [
    {
     "data": {
      "text/html": [
       "<div>\n",
       "<style scoped>\n",
       "    .dataframe tbody tr th:only-of-type {\n",
       "        vertical-align: middle;\n",
       "    }\n",
       "\n",
       "    .dataframe tbody tr th {\n",
       "        vertical-align: top;\n",
       "    }\n",
       "\n",
       "    .dataframe thead th {\n",
       "        text-align: right;\n",
       "    }\n",
       "</style>\n",
       "<table border=\"1\" class=\"dataframe\">\n",
       "  <thead>\n",
       "    <tr style=\"text-align: right;\">\n",
       "      <th></th>\n",
       "      <th>userId</th>\n",
       "      <th>movieId</th>\n",
       "      <th>rating</th>\n",
       "    </tr>\n",
       "  </thead>\n",
       "  <tbody>\n",
       "    <tr>\n",
       "      <th>0</th>\n",
       "      <td>1</td>\n",
       "      <td>2</td>\n",
       "      <td>3.5</td>\n",
       "    </tr>\n",
       "    <tr>\n",
       "      <th>1</th>\n",
       "      <td>1</td>\n",
       "      <td>29</td>\n",
       "      <td>3.5</td>\n",
       "    </tr>\n",
       "    <tr>\n",
       "      <th>2</th>\n",
       "      <td>1</td>\n",
       "      <td>32</td>\n",
       "      <td>3.5</td>\n",
       "    </tr>\n",
       "    <tr>\n",
       "      <th>3</th>\n",
       "      <td>1</td>\n",
       "      <td>47</td>\n",
       "      <td>3.5</td>\n",
       "    </tr>\n",
       "    <tr>\n",
       "      <th>4</th>\n",
       "      <td>1</td>\n",
       "      <td>50</td>\n",
       "      <td>3.5</td>\n",
       "    </tr>\n",
       "  </tbody>\n",
       "</table>\n",
       "</div>"
      ],
      "text/plain": [
       "   userId  movieId  rating\n",
       "0       1        2     3.5\n",
       "1       1       29     3.5\n",
       "2       1       32     3.5\n",
       "3       1       47     3.5\n",
       "4       1       50     3.5"
      ]
     },
     "execution_count": 216,
     "metadata": {},
     "output_type": "execute_result"
    }
   ],
   "source": [
    "user_df.head()"
   ]
  },
  {
   "cell_type": "code",
   "execution_count": null,
   "metadata": {},
   "outputs": [],
   "source": []
  },
  {
   "cell_type": "code",
   "execution_count": null,
   "metadata": {},
   "outputs": [],
   "source": []
  },
  {
   "cell_type": "code",
   "execution_count": null,
   "metadata": {},
   "outputs": [],
   "source": []
  },
  {
   "cell_type": "code",
   "execution_count": null,
   "metadata": {},
   "outputs": [],
   "source": []
  },
  {
   "cell_type": "code",
   "execution_count": null,
   "metadata": {},
   "outputs": [],
   "source": []
  },
  {
   "cell_type": "code",
   "execution_count": null,
   "metadata": {},
   "outputs": [],
   "source": []
  },
  {
   "cell_type": "code",
   "execution_count": null,
   "metadata": {},
   "outputs": [],
   "source": []
  },
  {
   "cell_type": "code",
   "execution_count": null,
   "metadata": {},
   "outputs": [],
   "source": []
  },
  {
   "cell_type": "code",
   "execution_count": null,
   "metadata": {},
   "outputs": [],
   "source": []
  },
  {
   "cell_type": "code",
   "execution_count": null,
   "metadata": {},
   "outputs": [],
   "source": []
  },
  {
   "cell_type": "code",
   "execution_count": null,
   "metadata": {},
   "outputs": [],
   "source": []
  }
 ],
 "metadata": {
  "kernelspec": {
   "display_name": "deep",
   "language": "python",
   "name": "deep"
  },
  "language_info": {
   "codemirror_mode": {
    "name": "ipython",
    "version": 3
   },
   "file_extension": ".py",
   "mimetype": "text/x-python",
   "name": "python",
   "nbconvert_exporter": "python",
   "pygments_lexer": "ipython3",
   "version": "3.11.4"
  },
  "orig_nbformat": 4
 },
 "nbformat": 4,
 "nbformat_minor": 2
}
